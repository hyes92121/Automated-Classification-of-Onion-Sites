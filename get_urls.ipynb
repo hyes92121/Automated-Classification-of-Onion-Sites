{
 "cells": [
  {
   "cell_type": "code",
   "execution_count": 2,
   "metadata": {},
   "outputs": [],
   "source": [
    "from bs4 import BeautifulSoup\n",
    "import csv"
   ]
  },
  {
   "cell_type": "markdown",
   "metadata": {},
   "source": [
    "## Crawl onion URLs  from a website"
   ]
  },
  {
   "cell_type": "markdown",
   "metadata": {},
   "source": [
    "#### First, extract relevant HTML from website and paste them into `raw_html`"
   ]
  },
  {
   "cell_type": "code",
   "execution_count": 3,
   "metadata": {},
   "outputs": [],
   "source": [
    "raw_html = \"\"\"\n",
    "<li><a href=\"http://xqz3u5drneuzhaeo.onion/users/ismism/\" rel=\"nofollow\">Ismism</a>\n",
    " - We provide visitors with a venue to publish opinion editorials on \n",
    "topics ranging from political language to modern uses and meanings to \n",
    "gibberish.</li>\n",
    "<li><a href=\"http://b6kpigzhrdhibmos.onion/d6/\" rel=\"nofollow\">Tornado</a> - Forum, blogs, polls, registered or anon posting.</li>\n",
    "<li><a href=\"http://p43g3uyr4dhneura.onion/blog/index.html\" rel=\"nofollow\">Nekro's Onion #Dwelling#</a> - A personal page by Nekro reupdated.</li>\n",
    "<li><a href=\"http://torgame.crabdance.com/blog/\" rel=\"nofollow\">Fake Checks; Real Pizza (clearnet)</a> - Personal blog of the old TorChan administrator, cerulean.</li>\n",
    "<li><a href=\"http://utup22qsb6ebeejs.onion/\" rel=\"nofollow\">My Hidden Blog</a> - Security politics, security, tor, tools, personal.</li>\n",
    "<li><a href=\"http://5a7ryk7pdjflogpx.onion/flatpress/\" rel=\"nofollow\">404's Blog</a> - Blog about a few things happening in Tor, mainly revolving around TorChan &amp; other imageboards.</li>\n",
    "<li><a href=\"http://ad52wtwp2goynr3a.onion/\" rel=\"nofollow\">Dark Like My Soul</a> - A blog by fancycakes. Has some of the most inspiring and beautiful poetry you will read within your lifetime.</li>\n",
    "<li><a href=\"http://qb6si4svhnhlw4hv.onion/\" rel=\"nofollow\">The blog of an I2Person</a> - Blog about whatever chisquare wants to talk about.</li>\n",
    "<li><a href=\"http://gqc3mjjp5tdbbxui.onion/\" rel=\"nofollow\">The Most Dangerous Man in Cyberspace</a> - Scans of a Rolling Stone <a href=\"http://anarchistnews.org/?q=node/12860\" rel=\"nofollow\">article</a> about Jacob Appelbaum (ioerror).</li>\n",
    "<li><a href=\"http://6g2osf4l534bozmu.onion/\" rel=\"nofollow\">RespiraTOR</a> - If something is infuriating you, it's better to get it off your chest</li>\n",
    "<li><a href=\"http://b2psupe2rienya5n.onion/\" rel=\"nofollow\">Americans for Disparity</a> - Exploring disparody.</li>\n",
    "<li><a href=\"http://cxoz72fgevhfgitm.onion/\" rel=\"nofollow\">Tor and blosxom</a> - A Tor hidden service running on the blosxom blogging platform.</li>\n",
    "<li><a href=\"http://kv77v7n5kblz5tpw.onion/\" rel=\"nofollow\">The Croat's Blog</a> - It's all about the intel and knowledge! Whistleblowing FTW!</li>\n",
    "<li><a href=\"http://tdgknw25wqm5sbhg.onion/\" rel=\"nofollow\">Gionn.net</a>, <a href=\"https://gionn.net/\" rel=\"nofollow\">clearnet</a> - Technology blog and news aggregator.</li>\n",
    "<li><a href=\"http://utup22qsb6ebeejs.onion/\" rel=\"nofollow\">My Hidden Blog</a> - Security politics, security, tor, tools, personal.</li>\n",
    "<li><a href=\"http://xqz3u5drneuzhaeo.onion/users/shew/\" rel=\"nofollow\">Shew's Blog #1st</a> (redirects to #2nd), <a href=\"http://xqz3u5drneuzhaeo.onion/users/shew2/\" rel=\"nofollow\">#2nd</a> - Blog and Shewstring, an anonymized FreeBSD distro, open commenting.</li>\n",
    "<li><a href=\"http://yeeshafbtyf7aipe.onion/\" rel=\"nofollow\">Cone's lair #2nd</a> - Yeesha. Back with Cone's journal and some other stuff.</li>\n",
    "<li><a href=\"http://tjbxptkkgx2qmeqz.onion/\" rel=\"nofollow\">True Anonymous Confessions</a> - A confession service based on a bash clone.</li>\n",
    "<li><a href=\"http://74ypjqjwf6oejmax.onion/\" rel=\"nofollow\">Beneath VT</a> - Information on the steam tunnels at Virginia Tech.</li>\n",
    "<li><a href=\"http://tovfhccd4sv3kez4.onion/\" rel=\"nofollow\">Keep Bitcoin Real</a>, <a href=\"http://www.flickr.com/photos/keep_bitcoin_real/sets/72157627130231982\" rel=\"nofollow\">flickr</a>, <a href=\"http://keepbitcoinreal.imgur.com/\" rel=\"nofollow\">imgur</a> - Fuck the day traders, take Bitcoin back to its roots. [THROWS A INDEX WITH NOTING IN IT.]</li>\n",
    "<li><a href=\"http://xqz3u5drneuzhaeo.onion/users/experiments/\" rel=\"nofollow\">The Human Experiment</a> - Human medical experiments. We go, where few dare. (Direct FH URL).</li>\n",
    "\"\"\"\n",
    "soup = BeautifulSoup(raw_html, \"html5lib\")"
   ]
  },
  {
   "cell_type": "markdown",
   "metadata": {},
   "source": [
    "#### the code below has to be modified to fit pasted HTML"
   ]
  },
  {
   "cell_type": "code",
   "execution_count": 15,
   "metadata": {},
   "outputs": [],
   "source": [
    "outfile_name = 'blogs2.csv'\n",
    "with open(outfile_name, 'w') as outfile:\n",
    "    writer = csv.writer(outfile, delimiter=',')\n",
    "    for item in soup.find_all('li'):\n",
    "        writer.writerow([item.find('a')['href'], item.text.replace('\\n','')])"
   ]
  }
 ],
 "metadata": {
  "kernelspec": {
   "display_name": "Python 3",
   "language": "python",
   "name": "python3"
  },
  "language_info": {
   "codemirror_mode": {
    "name": "ipython",
    "version": 3
   },
   "file_extension": ".py",
   "mimetype": "text/x-python",
   "name": "python",
   "nbconvert_exporter": "python",
   "pygments_lexer": "ipython3",
   "version": "3.6.3"
  }
 },
 "nbformat": 4,
 "nbformat_minor": 2
}
